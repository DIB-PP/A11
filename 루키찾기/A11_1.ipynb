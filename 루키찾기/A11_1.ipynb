{
 "cells": [
  {
   "cell_type": "code",
   "execution_count": 1,
   "metadata": {},
   "outputs": [],
   "source": [
    "import time\n",
    "import pandas as pd\n",
    "from tqdm import tqdm\n",
    "from selenium.webdriver.common.by import By\n",
    "from selenium import webdriver"
   ]
  },
  {
   "cell_type": "code",
   "execution_count": 2,
   "metadata": {},
   "outputs": [
    {
     "name": "stderr",
     "output_type": "stream",
     "text": [
      "100%|██████████| 5/5 [00:30<00:00,  6.13s/it]\n",
      "100%|██████████| 5/5 [00:30<00:00,  6.13s/it]\n",
      "100%|██████████| 5/5 [00:30<00:00,  6.14s/it]\n",
      "100%|██████████| 5/5 [00:30<00:00,  6.14s/it]\n",
      "100%|██████████| 5/5 [00:30<00:00,  6.18s/it]\n",
      "100%|██████████| 5/5 [00:30<00:00,  6.17s/it]\n"
     ]
    },
    {
     "ename": "ElementClickInterceptedException",
     "evalue": "Message: element click intercepted: Element <div id=\"ui-id-972\" tabindex=\"-1\" role=\"option\" class=\"ui-menu-item-wrapper\">...</div> is not clickable at point (881, 478). Other element would receive the click: <div class=\"tab_content\" id=\"tabRoot\">...</div>\n  (Session info: MicrosoftEdge=122.0.2365.59)\nStacktrace:\n\tGetHandleVerifier [0x00007FF72178B852+63538]\n\tMicrosoft::Applications::Events::ILogConfiguration::operator* [0x00007FF72170F6D2+238290]\n\t(No symbol) [0x00007FF721543407]\n\t(No symbol) [0x00007FF72158FD22]\n\t(No symbol) [0x00007FF72158DF86]\n\t(No symbol) [0x00007FF72158BC9B]\n\t(No symbol) [0x00007FF72158ACB0]\n\t(No symbol) [0x00007FF72157F796]\n\t(No symbol) [0x00007FF7215A8E1A]\n\t(No symbol) [0x00007FF72157F037]\n\t(No symbol) [0x00007FF72157EEFD]\n\t(No symbol) [0x00007FF7215A9100]\n\t(No symbol) [0x00007FF72157F037]\n\t(No symbol) [0x00007FF7215C1F49]\n\t(No symbol) [0x00007FF7215A8A83]\n\t(No symbol) [0x00007FF72157E55E]\n\t(No symbol) [0x00007FF72157D71C]\n\t(No symbol) [0x00007FF72157E111]\n\tMicrosoft::Applications::Events::EventProperty::to_string [0x00007FF721961D3C+1102764]\n\t(No symbol) [0x00007FF7215F25F6]\n\t(No symbol) [0x00007FF721683DAC]\n\t(No symbol) [0x00007FF72167BDA8]\n\tMicrosoft::Applications::Events::EventProperty::to_string [0x00007FF721960C85+1098485]\n\tMicrosoft::Applications::Events::ILogConfiguration::operator* [0x00007FF721719E91+281233]\n\tMicrosoft::Applications::Events::ILogConfiguration::operator* [0x00007FF721714614+258580]\n\tMicrosoft::Applications::Events::ILogConfiguration::operator* [0x00007FF72171474F+258895]\n\tMicrosoft::Applications::Events::ILogConfiguration::operator* [0x00007FF721708F21+211745]\n\tBaseThreadInitThunk [0x00007FFE5045257D+29]\n\tRtlUserThreadStart [0x00007FFE51A2AA58+40]\n",
     "output_type": "error",
     "traceback": [
      "\u001b[1;31m---------------------------------------------------------------------------\u001b[0m",
      "\u001b[1;31mElementClickInterceptedException\u001b[0m          Traceback (most recent call last)",
      "Cell \u001b[1;32mIn[2], line 36\u001b[0m\n\u001b[0;32m     34\u001b[0m     driver\u001b[38;5;241m.\u001b[39mexecute_script(\u001b[38;5;124m\"\u001b[39m\u001b[38;5;124marguments[0].scrollTop += 200;\u001b[39m\u001b[38;5;124m\"\u001b[39m, element) \u001b[38;5;66;03m#미니 스크롤\u001b[39;00m\n\u001b[0;32m     35\u001b[0m     time\u001b[38;5;241m.\u001b[39msleep(\u001b[38;5;241m3\u001b[39m)\n\u001b[1;32m---> 36\u001b[0m     \u001b[43mdriver\u001b[49m\u001b[38;5;241;43m.\u001b[39;49m\u001b[43mfind_element\u001b[49m\u001b[43m(\u001b[49m\u001b[43mBy\u001b[49m\u001b[38;5;241;43m.\u001b[39;49m\u001b[43mXPATH\u001b[49m\u001b[43m,\u001b[49m\u001b[43m \u001b[49m\u001b[38;5;124;43mf\u001b[39;49m\u001b[38;5;124;43m'\u001b[39;49m\u001b[38;5;124;43m//*[@id=\u001b[39;49m\u001b[38;5;124;43m\"\u001b[39;49m\u001b[38;5;124;43mui-id-\u001b[39;49m\u001b[38;5;132;43;01m{\u001b[39;49;00m\u001b[43mindex_num\u001b[49m\u001b[38;5;132;43;01m}\u001b[39;49;00m\u001b[38;5;124;43m\"\u001b[39;49m\u001b[38;5;124;43m]\u001b[39;49m\u001b[38;5;124;43m'\u001b[39;49m\u001b[43m)\u001b[49m\u001b[38;5;241;43m.\u001b[39;49m\u001b[43mclick\u001b[49m\u001b[43m(\u001b[49m\u001b[43m)\u001b[49m \u001b[38;5;66;03m# 7~12문제가 있음.\u001b[39;00m\n\u001b[0;32m     37\u001b[0m \u001b[38;5;28;01melse\u001b[39;00m:\n\u001b[0;32m     38\u001b[0m     \u001b[38;5;28;01mbreak\u001b[39;00m\n",
      "File \u001b[1;32m~\\AppData\\Roaming\\Python\\Python311\\site-packages\\selenium\\webdriver\\remote\\webelement.py:94\u001b[0m, in \u001b[0;36mWebElement.click\u001b[1;34m(self)\u001b[0m\n\u001b[0;32m     92\u001b[0m \u001b[38;5;28;01mdef\u001b[39;00m \u001b[38;5;21mclick\u001b[39m(\u001b[38;5;28mself\u001b[39m) \u001b[38;5;241m-\u001b[39m\u001b[38;5;241m>\u001b[39m \u001b[38;5;28;01mNone\u001b[39;00m:\n\u001b[0;32m     93\u001b[0m \u001b[38;5;250m    \u001b[39m\u001b[38;5;124;03m\"\"\"Clicks the element.\"\"\"\u001b[39;00m\n\u001b[1;32m---> 94\u001b[0m     \u001b[38;5;28;43mself\u001b[39;49m\u001b[38;5;241;43m.\u001b[39;49m\u001b[43m_execute\u001b[49m\u001b[43m(\u001b[49m\u001b[43mCommand\u001b[49m\u001b[38;5;241;43m.\u001b[39;49m\u001b[43mCLICK_ELEMENT\u001b[49m\u001b[43m)\u001b[49m\n",
      "File \u001b[1;32m~\\AppData\\Roaming\\Python\\Python311\\site-packages\\selenium\\webdriver\\remote\\webelement.py:395\u001b[0m, in \u001b[0;36mWebElement._execute\u001b[1;34m(self, command, params)\u001b[0m\n\u001b[0;32m    393\u001b[0m     params \u001b[38;5;241m=\u001b[39m {}\n\u001b[0;32m    394\u001b[0m params[\u001b[38;5;124m\"\u001b[39m\u001b[38;5;124mid\u001b[39m\u001b[38;5;124m\"\u001b[39m] \u001b[38;5;241m=\u001b[39m \u001b[38;5;28mself\u001b[39m\u001b[38;5;241m.\u001b[39m_id\n\u001b[1;32m--> 395\u001b[0m \u001b[38;5;28;01mreturn\u001b[39;00m \u001b[38;5;28;43mself\u001b[39;49m\u001b[38;5;241;43m.\u001b[39;49m\u001b[43m_parent\u001b[49m\u001b[38;5;241;43m.\u001b[39;49m\u001b[43mexecute\u001b[49m\u001b[43m(\u001b[49m\u001b[43mcommand\u001b[49m\u001b[43m,\u001b[49m\u001b[43m \u001b[49m\u001b[43mparams\u001b[49m\u001b[43m)\u001b[49m\n",
      "File \u001b[1;32m~\\AppData\\Roaming\\Python\\Python311\\site-packages\\selenium\\webdriver\\remote\\webdriver.py:347\u001b[0m, in \u001b[0;36mWebDriver.execute\u001b[1;34m(self, driver_command, params)\u001b[0m\n\u001b[0;32m    345\u001b[0m response \u001b[38;5;241m=\u001b[39m \u001b[38;5;28mself\u001b[39m\u001b[38;5;241m.\u001b[39mcommand_executor\u001b[38;5;241m.\u001b[39mexecute(driver_command, params)\n\u001b[0;32m    346\u001b[0m \u001b[38;5;28;01mif\u001b[39;00m response:\n\u001b[1;32m--> 347\u001b[0m     \u001b[38;5;28;43mself\u001b[39;49m\u001b[38;5;241;43m.\u001b[39;49m\u001b[43merror_handler\u001b[49m\u001b[38;5;241;43m.\u001b[39;49m\u001b[43mcheck_response\u001b[49m\u001b[43m(\u001b[49m\u001b[43mresponse\u001b[49m\u001b[43m)\u001b[49m\n\u001b[0;32m    348\u001b[0m     response[\u001b[38;5;124m\"\u001b[39m\u001b[38;5;124mvalue\u001b[39m\u001b[38;5;124m\"\u001b[39m] \u001b[38;5;241m=\u001b[39m \u001b[38;5;28mself\u001b[39m\u001b[38;5;241m.\u001b[39m_unwrap_value(response\u001b[38;5;241m.\u001b[39mget(\u001b[38;5;124m\"\u001b[39m\u001b[38;5;124mvalue\u001b[39m\u001b[38;5;124m\"\u001b[39m, \u001b[38;5;28;01mNone\u001b[39;00m))\n\u001b[0;32m    349\u001b[0m     \u001b[38;5;28;01mreturn\u001b[39;00m response\n",
      "File \u001b[1;32m~\\AppData\\Roaming\\Python\\Python311\\site-packages\\selenium\\webdriver\\remote\\errorhandler.py:229\u001b[0m, in \u001b[0;36mErrorHandler.check_response\u001b[1;34m(self, response)\u001b[0m\n\u001b[0;32m    227\u001b[0m         alert_text \u001b[38;5;241m=\u001b[39m value[\u001b[38;5;124m\"\u001b[39m\u001b[38;5;124malert\u001b[39m\u001b[38;5;124m\"\u001b[39m]\u001b[38;5;241m.\u001b[39mget(\u001b[38;5;124m\"\u001b[39m\u001b[38;5;124mtext\u001b[39m\u001b[38;5;124m\"\u001b[39m)\n\u001b[0;32m    228\u001b[0m     \u001b[38;5;28;01mraise\u001b[39;00m exception_class(message, screen, stacktrace, alert_text)  \u001b[38;5;66;03m# type: ignore[call-arg]  # mypy is not smart enough here\u001b[39;00m\n\u001b[1;32m--> 229\u001b[0m \u001b[38;5;28;01mraise\u001b[39;00m exception_class(message, screen, stacktrace)\n",
      "\u001b[1;31mElementClickInterceptedException\u001b[0m: Message: element click intercepted: Element <div id=\"ui-id-972\" tabindex=\"-1\" role=\"option\" class=\"ui-menu-item-wrapper\">...</div> is not clickable at point (881, 478). Other element would receive the click: <div class=\"tab_content\" id=\"tabRoot\">...</div>\n  (Session info: MicrosoftEdge=122.0.2365.59)\nStacktrace:\n\tGetHandleVerifier [0x00007FF72178B852+63538]\n\tMicrosoft::Applications::Events::ILogConfiguration::operator* [0x00007FF72170F6D2+238290]\n\t(No symbol) [0x00007FF721543407]\n\t(No symbol) [0x00007FF72158FD22]\n\t(No symbol) [0x00007FF72158DF86]\n\t(No symbol) [0x00007FF72158BC9B]\n\t(No symbol) [0x00007FF72158ACB0]\n\t(No symbol) [0x00007FF72157F796]\n\t(No symbol) [0x00007FF7215A8E1A]\n\t(No symbol) [0x00007FF72157F037]\n\t(No symbol) [0x00007FF72157EEFD]\n\t(No symbol) [0x00007FF7215A9100]\n\t(No symbol) [0x00007FF72157F037]\n\t(No symbol) [0x00007FF7215C1F49]\n\t(No symbol) [0x00007FF7215A8A83]\n\t(No symbol) [0x00007FF72157E55E]\n\t(No symbol) [0x00007FF72157D71C]\n\t(No symbol) [0x00007FF72157E111]\n\tMicrosoft::Applications::Events::EventProperty::to_string [0x00007FF721961D3C+1102764]\n\t(No symbol) [0x00007FF7215F25F6]\n\t(No symbol) [0x00007FF721683DAC]\n\t(No symbol) [0x00007FF72167BDA8]\n\tMicrosoft::Applications::Events::EventProperty::to_string [0x00007FF721960C85+1098485]\n\tMicrosoft::Applications::Events::ILogConfiguration::operator* [0x00007FF721719E91+281233]\n\tMicrosoft::Applications::Events::ILogConfiguration::operator* [0x00007FF721714614+258580]\n\tMicrosoft::Applications::Events::ILogConfiguration::operator* [0x00007FF72171474F+258895]\n\tMicrosoft::Applications::Events::ILogConfiguration::operator* [0x00007FF721708F21+211745]\n\tBaseThreadInitThunk [0x00007FFE5045257D+29]\n\tRtlUserThreadStart [0x00007FFE51A2AA58+40]\n"
     ]
    }
   ],
   "source": [
    "driver = webdriver.Edge()\n",
    "url = 'https://product.kyobobook.co.kr/bestseller/total?period=003#?page=1&per=20&period=003&ymw=&bsslBksClstCode=A'\n",
    "driver.get(url)\n",
    "\n",
    "time.sleep(3)\n",
    "def find_text_list(url): # 복수형은 's'말고 'list'등 길게 명시하기\n",
    "    text_list = driver.find_elements(By.XPATH, url)\n",
    "    return [i.text for i in text_list]\n",
    "\n",
    "result_df = pd.DataFrame() # 최종 100개씩 1200개 수집\n",
    "index_num = 0 # 54 # 이걸 반복문에 넣으니 초기화 되지... 에효\n",
    "\n",
    "for i in range(1, 13):\n",
    "    if i == 1:\n",
    "        driver.find_element(By.XPATH, '/html/body/div[18]/button').click()\n",
    "        time.sleep(2)\n",
    "        driver.find_element(By.XPATH, '//*[@id=\"ui-id-66\"]/div[2]/button[2]').click()\n",
    "    elif i == 2:\n",
    "        time.sleep(2)\n",
    "        driver.execute_script(\"window.scrollTo(0, 0);\") # 최상단\n",
    "        time.sleep(2)\n",
    "        driver.find_element(By.XPATH, '//*[@id=\"selListType-button\"]').click() # 화살표\n",
    "        time.sleep(2)\n",
    "        driver.find_element(By.XPATH, '//*[@id=\"ui-id-187\"]').click()\n",
    "        index_num = 187\n",
    "    elif 3 <= i <= 12:\n",
    "        time.sleep(3)\n",
    "        index_num += 157\n",
    "        driver.execute_script(\"window.scrollTo(0, 0);\") # 최상단으로\n",
    "        time.sleep(3)\n",
    "        driver.find_element(By.XPATH, '//*[@id=\"selListType-button\"]').click() # 화살표 버튼\n",
    "        time.sleep(3)\n",
    "        mini_scroll = driver.find_element(By.XPATH, '//*[@id=\"selListType-menu\"]') # 변수 설정\n",
    "        driver.execute_script(\"arguments[0].scrollTop += 200;\", mini_scroll) #미니 스크롤\n",
    "        time.sleep(3)\n",
    "        driver.find_element(By.XPATH, f'//*[@id=\"ui-id-{index_num}\"]').click() # 7~12문제가 있음.\n",
    "    else:\n",
    "        break\n",
    "    \n",
    "    for i in tqdm(range(5)): # 루프 5번 반복할 것이다.\n",
    "        time.sleep(3)\n",
    "        driver.execute_script(\"window.scrollTo(0, document.body.scrollHeight);\")\n",
    "        time.sleep(3) # 80퍼에서 에러난 걸보고 3으로 바꿈.\n",
    "        driver.find_element(By.XPATH, '//*[@id=\"tabRoot\"]/div[3]/div[2]/button[2]').click()"
   ]
  }
 ],
 "metadata": {
  "kernelspec": {
   "display_name": "Python 3",
   "language": "python",
   "name": "python3"
  },
  "language_info": {
   "codemirror_mode": {
    "name": "ipython",
    "version": 3
   },
   "file_extension": ".py",
   "mimetype": "text/x-python",
   "name": "python",
   "nbconvert_exporter": "python",
   "pygments_lexer": "ipython3",
   "version": "3.11.2"
  }
 },
 "nbformat": 4,
 "nbformat_minor": 2
}
