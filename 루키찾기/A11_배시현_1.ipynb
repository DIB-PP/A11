{
 "cells": [
  {
   "cell_type": "code",
   "execution_count": 1,
   "metadata": {},
   "outputs": [],
   "source": [
    "import time\n",
    "import pandas as pd\n",
    "from tqdm import tqdm\n",
    "from selenium.webdriver.common.by import By\n",
    "from selenium import webdriver"
   ]
  },
  {
   "cell_type": "code",
   "execution_count": 2,
   "metadata": {},
   "outputs": [
    {
     "name": "stderr",
     "output_type": "stream",
     "text": [
      "100%|██████████| 5/5 [00:30<00:00,  6.13s/it]\n",
      "100%|██████████| 5/5 [00:30<00:00,  6.13s/it]\n"
     ]
    }
   ],
   "source": [
    "driver = webdriver.Edge()\n",
    "url = 'https://product.kyobobook.co.kr/bestseller/total?period=003#?page=1&per=20&period=003&ymw=&bsslBksClstCode=A'\n",
    "driver.get(url)\n",
    "\n",
    "time.sleep(3)\n",
    "def find_text_list(url): # 복수형은 's'말고 'list'등 길게 명시하기\n",
    "    text_list = driver.find_elements(By.XPATH, url)\n",
    "    return [i.text for i in text_list]\n",
    "\n",
    "result_df = pd.DataFrame() # 최종 100개씩 1200개 수집\n",
    "index_num = 0 # 54 # 이걸 반복문에 넣으니 초기화 되지... 에효\n",
    "\n",
    "for i in range(1, 13):\n",
    "    if i == 1:\n",
    "        driver.find_element(By.XPATH, '/html/body/div[18]/button').click()\n",
    "        time.sleep(2)\n",
    "        driver.find_element(By.XPATH, '//*[@id=\"ui-id-66\"]/div[2]/button[2]').click()\n",
    "    elif i == 2:\n",
    "        time.sleep(2)\n",
    "        driver.execute_script(\"window.scrollTo(0, 0);\") # 최상단\n",
    "        time.sleep(2)\n",
    "        driver.find_element(By.XPATH, '//*[@id=\"selListType-button\"]').click() # 화살표\n",
    "        time.sleep(2)\n",
    "        driver.find_element(By.XPATH, '//*[@id=\"ui-id-187\"]').click()\n",
    "        index_num = 187\n",
    "    elif 3 <= i <= 12:\n",
    "        time.sleep(3)\n",
    "        index_num += 157\n",
    "        driver.execute_script(\"window.scrollTo(0, 0);\") # 최상단으로\n",
    "        time.sleep(3)\n",
    "        driver.find_element(By.XPATH, '//*[@id=\"selListType-button\"]').click() # 화살표 버튼\n",
    "        time.sleep(3)\n",
    "        mini_scroll = driver.find_element(By.XPATH, '//*[@id=\"selListType-menu\"]') # 변수 설정\n",
    "        driver.execute_script(\"arguments[0].scrollTop += 200;\", mini_scroll) #미니 스크롤\n",
    "        time.sleep(3)\n",
    "        driver.find_element(By.XPATH, f'//*[@id=\"ui-id-{index_num}\"]').click() # 7~12문제가 있음.\n",
    "    else:\n",
    "        break\n",
    "    \n",
    "    for i in tqdm(range(5)): # 루프 5번 반복할 것이다.\n",
    "        time.sleep(3)\n",
    "        driver.execute_script(\"window.scrollTo(0, document.body.scrollHeight);\")\n",
    "        time.sleep(3) # 80퍼에서 에러난 걸보고 3으로 바꿈.\n",
    "        driver.find_element(By.XPATH, '//*[@id=\"tabRoot\"]/div[3]/div[2]/button[2]').click()"
   ]
  }
 ],
 "metadata": {
  "kernelspec": {
   "display_name": "Python 3",
   "language": "python",
   "name": "python3"
  },
  "language_info": {
   "codemirror_mode": {
    "name": "ipython",
    "version": 3
   },
   "file_extension": ".py",
   "mimetype": "text/x-python",
   "name": "python",
   "nbconvert_exporter": "python",
   "pygments_lexer": "ipython3",
   "version": "3.11.2"
  }
 },
 "nbformat": 4,
 "nbformat_minor": 2
}
