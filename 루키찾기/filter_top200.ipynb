{
 "cells": [
  {
   "cell_type": "markdown",
   "metadata": {},
   "source": [
    "로지스틱 회귀"
   ]
  },
  {
   "cell_type": "code",
   "execution_count": null,
   "metadata": {},
   "outputs": [],
   "source": [
    "from sklearn.model_selection import train_test_split\n",
    "from sklearn.linear_model import LogisticRegression\n",
    "from sklearn.metrics import accuracy_score"
   ]
  },
  {
   "cell_type": "code",
   "execution_count": null,
   "metadata": {},
   "outputs": [],
   "source": [
    "#루키작가인지 아닌지 로지스틱 회귀\n",
    "#filtered_secon_book이 filter_top200 파일임\n",
    "\n",
    "#filtered_second_book 데이터프레임에서 루키 작가인지 아닌지를 나타내는 이진 변수 설정\n",
    "filtered_second_book['IsRookie'] = (filtered_second_book['Writer'].isin(rookie_candidates)).astype(int)\n",
    "\n",
    "#확인을 위해 처음 몇 개의 행 출력\n",
    "print(filtered_second_book[['Writer', 'IsRookie']].head())"
   ]
  },
  {
   "cell_type": "code",
   "execution_count": null,
   "metadata": {},
   "outputs": [],
   "source": [
    "# 독립 변수 선택\n",
    "X = filtered_second_book[['Category', 'Writer','Press']]  # 필요한 독립 변수들을 선택\n",
    "\n",
    "# 종속 변수 선택\n",
    "y = filtered_second_book['IsRookie']\n",
    "\n",
    "# 데이터 분할\n",
    "X_train, X_test, y_train, y_test = train_test_split(X, y, test_size=0.2, random_state=42)\n",
    "\n",
    "# 로지스틱 회귀 모델 학습\n",
    "model = LogisticRegression()\n",
    "model.fit(X_train, y_train)\n",
    "\n",
    "# 모델 예측\n",
    "y_pred = model.predict(X_test)\n",
    "\n",
    "# 모델 평가\n",
    "accuracy = accuracy_score(y_test, y_pred)\n",
    "print(\"Accuracy:\", accuracy)"
   ]
  },
  {
   "cell_type": "code",
   "execution_count": null,
   "metadata": {},
   "outputs": [],
   "source": []
  }
 ],
 "metadata": {
  "language_info": {
   "name": "python"
  }
 },
 "nbformat": 4,
 "nbformat_minor": 2
}
